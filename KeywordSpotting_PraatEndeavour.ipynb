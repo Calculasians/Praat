{
 "cells": [
  {
   "cell_type": "code",
   "execution_count": 44,
   "id": "905a0ebd",
   "metadata": {},
   "outputs": [],
   "source": [
    "from pathlib import Path\n",
    "from os import listdir\n",
    "from os.path import isfile, join\n",
    "import os\n",
    "import numpy as np\n",
    "import matplotlib.pyplot as plt"
   ]
  },
  {
   "cell_type": "code",
   "execution_count": 4,
   "id": "42aeb908",
   "metadata": {
    "scrolled": true
   },
   "outputs": [],
   "source": [
    "root_dir = Path(os.getcwd())"
   ]
  },
  {
   "cell_type": "code",
   "execution_count": 53,
   "id": "5b788724",
   "metadata": {},
   "outputs": [],
   "source": [
    "f = open(root_dir/'00f0204f_nohash_1_short_text', 'r')\n",
    "\n",
    "for i in range(5):\n",
    "    f.readline()\n",
    "\n",
    "nx = int(f.readline()[:-1])\n",
    "\n",
    "for i in range(4):\n",
    "    f.readline()\n",
    "    \n",
    "ny = int(f.readline()[:-1])\n",
    "\n",
    "for i in range(2):\n",
    "    f.readline()\n",
    "    \n",
    "new_spectrogram = np.array([[0]*ny]*nx, dtype='float')\n",
    "for y in reversed(range(ny)):\n",
    "    for x in range(nx):\n",
    "        new_spectrogram[x][y] = float(f.readline()[:-1])"
   ]
  },
  {
   "cell_type": "code",
   "execution_count": 54,
   "id": "36f89d51",
   "metadata": {},
   "outputs": [
    {
     "data": {
      "text/plain": [
       "<matplotlib.image.AxesImage at 0x1f99324df40>"
      ]
     },
     "execution_count": 54,
     "metadata": {},
     "output_type": "execute_result"
    },
    {
     "data": {
      "image/png": "[encoded data removed]",
      "text/plain": [
       "<Figure size 432x288 with 1 Axes>"
      ]
     },
     "metadata": {
      "needs_background": "light"
     },
     "output_type": "display_data"
    }
   ],
   "source": [
    "plt.imshow(new_spectrogram.T)"
   ]
  },
  {
   "cell_type": "code",
   "execution_count": null,
   "id": "95d66326",
   "metadata": {},
   "outputs": [],
   "source": []
  }
 ],
 "metadata": {
  "kernelspec": {
   "display_name": "Python 3",
   "language": "python",
   "name": "python3"
  },
  "language_info": {
   "codemirror_mode": {
    "name": "ipython",
    "version": 3
   },
   "file_extension": ".py",
   "mimetype": "text/x-python",
   "name": "python",
   "nbconvert_exporter": "python",
   "pygments_lexer": "ipython3",
   "version": "3.8.8"
  }
 },
 "nbformat": 4,
 "nbformat_minor": 5
}
